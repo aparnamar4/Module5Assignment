{
 "cells": [
  {
   "cell_type": "markdown",
   "id": "5c14e5de-b0c2-491f-8c12-17093cb47b35",
   "metadata": {},
   "source": [
    "# DataScienceEcosystem.ipynb"
   ]
  },
  {
   "cell_type": "markdown",
   "id": "f1a3d5e0-cfc9-4ef2-8688-8db03e43dd5f",
   "metadata": {},
   "source": [
    "### In this notebook, Data Science Tools and Ecosystem are summarized."
   ]
  },
  {
   "cell_type": "markdown",
   "id": "ef9d5f2a-fec4-4f2c-aac8-22d7dfef1e6c",
   "metadata": {},
   "source": [
    "#### Objectives:\n",
    "- List popular languages for Data Science\n",
    "- List commonly used libraries by Data Scientists\n",
    "- List Development environment open source tools used in Data Science"
   ]
  },
  {
   "cell_type": "markdown",
   "id": "d1539652-04db-4167-ae0f-13929e69a03b",
   "metadata": {},
   "source": [
    "#### Some of the popular languages that Data Scientists use are:\n",
    "- Python\n",
    "- R\n",
    "- SQL\n",
    "- Julia"
   ]
  },
  {
   "cell_type": "markdown",
   "id": "29152f57-e7d6-4e96-99d1-f8e8ccf9c9f8",
   "metadata": {},
   "source": [
    "#### Some of the commonly used libraries used by Data Scientists include:\n",
    "- pandas\n",
    "- numpy\n",
    "- scikit-learn\n",
    "- matplotlib\n",
    "- seaborn"
   ]
  },
  {
   "cell_type": "markdown",
   "id": "07ce66bf-6748-4338-b1f3-c0f39f237bbd",
   "metadata": {},
   "source": [
    "|Data Science Tools|\n",
    "|--------|\n",
    "|Python|\n",
    "|R|\n",
    "|Git|\n",
    "|SQL|"
   ]
  },
  {
   "cell_type": "markdown",
   "id": "33835b24-d985-491f-b345-fdbbf11663bb",
   "metadata": {},
   "source": [
    "# Arithmetic Expressions in Python\n",
    "\n",
    "### Below are a few examples of evaluating arithmetic expressions in Python:"
   ]
  },
  {
   "cell_type": "code",
   "execution_count": 11,
   "id": "e7e4de0e-72b4-4041-8978-0c4545704e2d",
   "metadata": {},
   "outputs": [
    {
     "data": {
      "text/plain": [
       "17"
      ]
     },
     "execution_count": 11,
     "metadata": {},
     "output_type": "execute_result"
    }
   ],
   "source": [
    "# This a simple arithmetic expression to mutiply then add integers\n",
    "(3*4)+5"
   ]
  },
  {
   "cell_type": "code",
   "execution_count": 12,
   "id": "d9392422-6fea-4490-ae7e-17b4402f99b2",
   "metadata": {},
   "outputs": [
    {
     "data": {
      "text/plain": [
       "3.3333333333333335"
      ]
     },
     "execution_count": 12,
     "metadata": {},
     "output_type": "execute_result"
    }
   ],
   "source": [
    "# This will convert 200 minutes to hours by diving by 60\n",
    "200/60"
   ]
  },
  {
   "cell_type": "markdown",
   "id": "eea55c07-46b0-4aa0-9bc4-955cf6eda3f3",
   "metadata": {},
   "source": [
    "## Author\n",
    "Aparna Joseph"
   ]
  },
  {
   "cell_type": "code",
   "execution_count": null,
   "id": "2b18a2fa-c739-407b-b9ab-39530aada593",
   "metadata": {},
   "outputs": [],
   "source": []
  }
 ],
 "metadata": {
  "kernelspec": {
   "display_name": "Python 3 (ipykernel)",
   "language": "python",
   "name": "python3"
  },
  "language_info": {
   "codemirror_mode": {
    "name": "ipython",
    "version": 3
   },
   "file_extension": ".py",
   "mimetype": "text/x-python",
   "name": "python",
   "nbconvert_exporter": "python",
   "pygments_lexer": "ipython3",
   "version": "3.11.7"
  }
 },
 "nbformat": 4,
 "nbformat_minor": 5
}
